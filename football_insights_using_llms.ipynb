{
 "cells": [
  {
   "cell_type": "code",
   "execution_count": 1,
   "metadata": {},
   "outputs": [],
   "source": [
    "import os\n",
    "import requests\n",
    "from bs4 import BeautifulSoup\n",
    "from dotenv import load_dotenv\n",
    "from IPython.display import Markdown, display\n",
    "from openai import OpenAI"
   ]
  },
  {
   "cell_type": "code",
   "execution_count": 2,
   "metadata": {},
   "outputs": [],
   "source": [
    "headers={\"User-Agent\":\"Mozilla/5.0 (X11; Linux x86_64; rv:133.0) Gecko/20100101 Firefox/133.0\"}\n",
    "\n",
    "class Website:\n",
    "\n",
    "    def __init__(self,url):\n",
    "        self.url=url\n",
    "        response=requests.get(url,headers=headers)\n",
    "        self.status=response.status_code\n",
    "        soup=BeautifulSoup(response.content,'html.parser')\n",
    "        self.title = soup.title.string if soup.title else \"No title found\"\n",
    "        for irrelevant in soup.body([\"script\", \"style\", \"img\", \"input\"]):\n",
    "            irrelevant.decompose()\n",
    "        self.text = soup.body.get_text(separator=\"\\n\", strip=True)"
   ]
  },
  {
   "cell_type": "code",
   "execution_count": 3,
   "metadata": {},
   "outputs": [
    {
     "name": "stdout",
     "output_type": "stream",
     "text": [
      "Football Statistics For Betting\n",
      "\n",
      "200\n"
     ]
    }
   ],
   "source": [
    "ed = Website('https://www.adamchoi.co.uk/teamgoals/detailed')\n",
    "print(ed.title)\n",
    "print(ed.text)\n",
    "print(ed.status)"
   ]
  },
  {
   "cell_type": "code",
   "execution_count": 4,
   "metadata": {},
   "outputs": [],
   "source": [
    "from selenium import webdriver\n",
    "from selenium.webdriver.common.keys import Keys\n",
    "from selenium.webdriver.common.by import By\n",
    "from selenium.webdriver.chrome.service import Service\n",
    "import time\n",
    "\n",
    "\n",
    "url=\"https://www.adamchoi.co.uk/teamgoals/detailed\"\n",
    "path='/home/jaydev/chromedriver-linux64/chromedriver'\n",
    "\n",
    "service = Service(path)\n",
    "driver = webdriver.Chrome(service=service)\n",
    "\n",
    "driver.get(url)\n",
    "\n",
    "all_matches_btn=driver.find_element(By.XPATH,\"//label[@analytics-event='All matches']\");\n",
    "\n"
   ]
  },
  {
   "cell_type": "code",
   "execution_count": 5,
   "metadata": {},
   "outputs": [],
   "source": [
    "all_matches_btn.click()"
   ]
  },
  {
   "cell_type": "code",
   "execution_count": 6,
   "metadata": {},
   "outputs": [
    {
     "name": "stdout",
     "output_type": "stream",
     "text": [
      "['17-08-2024 Arsenal 2 - 0 Wolves', '24-08-2024 Aston Villa 0 - 2 Arsenal', '31-08-2024 Arsenal 1 - 1 Brighton', '15-09-2024 Tottenham 0 - 1 Arsenal', '22-09-2024 Man City 2 - 2 Arsenal', '28-09-2024 Arsenal 4 - 2 Leicester', '05-10-2024 Arsenal 3 - 1 Southampton', '19-10-2024 Bournemouth 2 - 0 Arsenal', '27-10-2024 Arsenal 2 - 2 Liverpool', '02-11-2024 Newcastle 1 - 0 Arsenal', '10-11-2024 Chelsea 1 - 1 Arsenal', \"23-11-2024 Arsenal 3 - 0 Nott'm Forest\", '30-11-2024 West Ham 2 - 5 Arsenal', '04-12-2024 Arsenal 2 - 0 Man United', '08-12-2024 Fulham 1 - 1 Arsenal', '14-12-2024 Arsenal 0 - 0 Everton', '21-12-2024 Crystal Palace 1 - 5 Arsenal', '27-12-2024 Arsenal 1 - 0 Ipswich', '01-01-2025 Brentford 1 - 3 Arsenal', '04-01-2025 Brighton 1 - 1 Arsenal', '15-01-2025 Arsenal 2 - 1 Tottenham', '18-01-2025 Arsenal 2 - 2 Aston Villa', '17-08-2024 West Ham 1 - 2 Aston Villa', '24-08-2024 Aston Villa 0 - 2 Arsenal', '31-08-2024 Leicester 1 - 2 Aston Villa', '14-09-2024 Aston Villa 3 - 2 Everton', '21-09-2024 Aston Villa 3 - 1 Wolves', '29-09-2024 Ipswich 2 - 2 Aston Villa', '06-10-2024 Aston Villa 0 - 0 Man United', '19-10-2024 Fulham 1 - 3 Aston Villa', '26-10-2024 Aston Villa 1 - 1 Bournemouth', '03-11-2024 Tottenham 4 - 1 Aston Villa', '09-11-2024 Liverpool 2 - 0 Aston Villa', '23-11-2024 Aston Villa 2 - 2 Crystal Palace', '01-12-2024 Chelsea 3 - 0 Aston Villa', '04-12-2024 Aston Villa 3 - 1 Brentford', '07-12-2024 Aston Villa 1 - 0 Southampton', \"14-12-2024 Nott'm Forest 2 - 1 Aston Villa\", '21-12-2024 Aston Villa 2 - 1 Man City', '26-12-2024 Newcastle 3 - 0 Aston Villa', '30-12-2024 Aston Villa 2 - 2 Brighton', '04-01-2025 Aston Villa 2 - 1 Leicester', '15-01-2025 Everton 0 - 1 Aston Villa', '18-01-2025 Arsenal 2 - 2 Aston Villa', 'Next match: 26-01-2025 Aston Villa vs West Ham', \"17-08-2024 Nott'm Forest 1 - 1 Bournemouth\", '25-08-2024 Bournemouth 1 - 1 Newcastle', '31-08-2024 Everton 2 - 3 Bournemouth', '14-09-2024 Bournemouth 0 - 1 Chelsea', '21-09-2024 Liverpool 3 - 0 Bournemouth', '30-09-2024 Bournemouth 3 - 1 Southampton', '05-10-2024 Leicester 1 - 0 Bournemouth', '19-10-2024 Bournemouth 2 - 0 Arsenal', '26-10-2024 Aston Villa 1 - 1 Bournemouth', '02-11-2024 Bournemouth 2 - 1 Man City', '09-11-2024 Brentford 3 - 2 Bournemouth', '23-11-2024 Bournemouth 1 - 2 Brighton', '30-11-2024 Wolves 2 - 4 Bournemouth', '05-12-2024 Bournemouth 1 - 0 Tottenham', '08-12-2024 Ipswich 1 - 2 Bournemouth', '16-12-2024 Bournemouth 1 - 1 West Ham', '22-12-2024 Man United 0 - 3 Bournemouth', '26-12-2024 Bournemouth 0 - 0 Crystal Palace', '29-12-2024 Fulham 2 - 2 Bournemouth', '04-01-2025 Bournemouth 1 - 0 Everton', '14-01-2025 Chelsea 2 - 2 Bournemouth', '18-01-2025 Newcastle 1 - 4 Bournemouth', '18-08-2024 Brentford 2 - 1 Crystal Palace', '25-08-2024 Liverpool 2 - 0 Brentford', '31-08-2024 Brentford 3 - 1 Southampton', '14-09-2024 Man City 2 - 1 Brentford', '21-09-2024 Tottenham 3 - 1 Brentford', '28-09-2024 Brentford 1 - 1 West Ham', '05-10-2024 Brentford 5 - 3 Wolves', '19-10-2024 Man United 2 - 1 Brentford', '26-10-2024 Brentford 4 - 3 Ipswich', '04-11-2024 Fulham 2 - 1 Brentford', '09-11-2024 Brentford 3 - 2 Bournemouth', '23-11-2024 Everton 0 - 0 Brentford', '30-11-2024 Brentford 4 - 1 Leicester', '04-12-2024 Aston Villa 3 - 1 Brentford', '07-12-2024 Brentford 4 - 2 Newcastle', '15-12-2024 Chelsea 2 - 1 Brentford', \"21-12-2024 Brentford 0 - 2 Nott'm Forest\", '27-12-2024 Brighton 0 - 0 Brentford', '01-01-2025 Brentford 1 - 3 Arsenal', '04-01-2025 Southampton 0 - 5 Brentford', '14-01-2025 Brentford 2 - 2 Man City', '18-01-2025 Brentford 0 - 2 Liverpool', 'Next match: 26-01-2025 Crystal Palace vs Brentford', '17-08-2024 Everton 0 - 3 Brighton', '24-08-2024 Brighton 2 - 1 Man United', '31-08-2024 Arsenal 1 - 1 Brighton', '14-09-2024 Brighton 0 - 0 Ipswich', \"22-09-2024 Brighton 2 - 2 Nott'm Forest\", '28-09-2024 Chelsea 4 - 2 Brighton', '06-10-2024 Brighton 3 - 2 Tottenham', '19-10-2024 Newcastle 0 - 1 Brighton', '26-10-2024 Brighton 2 - 2 Wolves', '02-11-2024 Liverpool 2 - 1 Brighton', '09-11-2024 Brighton 2 - 1 Man City', '23-11-2024 Bournemouth 1 - 2 Brighton', '29-11-2024 Brighton 1 - 1 Southampton', '05-12-2024 Fulham 3 - 1 Brighton', '08-12-2024 Leicester 2 - 2 Brighton', '15-12-2024 Brighton 1 - 3 Crystal Palace', '21-12-2024 West Ham 1 - 1 Brighton', '27-12-2024 Brighton 0 - 0 Brentford', '30-12-2024 Aston Villa 2 - 2 Brighton', '04-01-2025 Brighton 1 - 1 Arsenal', '16-01-2025 Ipswich 0 - 2 Brighton', 'Next match: 19-01-2025 Man United vs Brighton', '18-08-2024 Chelsea 0 - 2 Man City', '25-08-2024 Wolves 2 - 6 Chelsea', '01-09-2024 Chelsea 1 - 1 Crystal Palace', '14-09-2024 Bournemouth 0 - 1 Chelsea', '21-09-2024 West Ham 0 - 3 Chelsea', '28-09-2024 Chelsea 4 - 2 Brighton', \"06-10-2024 Chelsea 1 - 1 Nott'm Forest\", '20-10-2024 Liverpool 2 - 1 Chelsea', '27-10-2024 Chelsea 2 - 1 Newcastle', '03-11-2024 Man United 1 - 1 Chelsea', '10-11-2024 Chelsea 1 - 1 Arsenal', '23-11-2024 Leicester 1 - 2 Chelsea', '01-12-2024 Chelsea 3 - 0 Aston Villa', '04-12-2024 Southampton 1 - 5 Chelsea', '08-12-2024 Tottenham 3 - 4 Chelsea', '15-12-2024 Chelsea 2 - 1 Brentford', '22-12-2024 Everton 0 - 0 Chelsea', '26-12-2024 Chelsea 1 - 2 Fulham', '30-12-2024 Ipswich 2 - 0 Chelsea', '04-01-2025 Crystal Palace 1 - 1 Chelsea', '14-01-2025 Chelsea 2 - 2 Bournemouth', 'Next match: 21-01-2025 Chelsea vs Wolves', '18-08-2024 Brentford 2 - 1 Crystal Palace', '24-08-2024 Crystal Palace 0 - 2 West Ham', '01-09-2024 Chelsea 1 - 1 Crystal Palace', '14-09-2024 Crystal Palace 2 - 2 Leicester', '21-09-2024 Crystal Palace 0 - 0 Man United', '28-09-2024 Everton 2 - 1 Crystal Palace', '05-10-2024 Crystal Palace 0 - 1 Liverpool', \"21-10-2024 Nott'm Forest 1 - 0 Crystal Palace\", '27-10-2024 Crystal Palace 1 - 0 Tottenham', '02-11-2024 Wolves 2 - 2 Crystal Palace', '09-11-2024 Crystal Palace 0 - 2 Fulham', '23-11-2024 Aston Villa 2 - 2 Crystal Palace', '30-11-2024 Crystal Palace 1 - 1 Newcastle', '03-12-2024 Ipswich 0 - 1 Crystal Palace', '07-12-2024 Crystal Palace 2 - 2 Man City', '15-12-2024 Brighton 1 - 3 Crystal Palace', '21-12-2024 Crystal Palace 1 - 5 Arsenal', '26-12-2024 Bournemouth 0 - 0 Crystal Palace', '29-12-2024 Crystal Palace 2 - 1 Southampton', '04-01-2025 Crystal Palace 1 - 1 Chelsea', '15-01-2025 Leicester 0 - 2 Crystal Palace', '18-01-2025 West Ham 0 - 2 Crystal Palace', 'Next match: 26-01-2025 Crystal Palace vs Brentford', '17-08-2024 Everton 0 - 3 Brighton', '24-08-2024 Tottenham 4 - 0 Everton', '31-08-2024 Everton 2 - 3 Bournemouth', '14-09-2024 Aston Villa 3 - 2 Everton', '21-09-2024 Leicester 1 - 1 Everton', '28-09-2024 Everton 2 - 1 Crystal Palace', '05-10-2024 Everton 0 - 0 Newcastle', '19-10-2024 Ipswich 0 - 2 Everton', '26-10-2024 Everton 1 - 1 Fulham', '02-11-2024 Southampton 1 - 0 Everton', '09-11-2024 West Ham 0 - 0 Everton', '23-11-2024 Everton 0 - 0 Brentford', '01-12-2024 Man United 4 - 0 Everton', '04-12-2024 Everton 4 - 0 Wolves', '14-12-2024 Arsenal 0 - 0 Everton', '22-12-2024 Everton 0 - 0 Chelsea', '26-12-2024 Man City 1 - 1 Everton', \"29-12-2024 Everton 0 - 2 Nott'm Forest\", '04-01-2025 Bournemouth 1 - 0 Everton', '15-01-2025 Everton 0 - 1 Aston Villa', 'Next match: 19-01-2025 Everton vs Tottenham', '16-08-2024 Man United 1 - 0 Fulham', '24-08-2024 Fulham 2 - 1 Leicester', '31-08-2024 Ipswich 1 - 1 Fulham', '14-09-2024 Fulham 1 - 1 West Ham', '21-09-2024 Fulham 3 - 1 Newcastle', \"28-09-2024 Nott'm Forest 0 - 1 Fulham\", '05-10-2024 Man City 3 - 2 Fulham', '19-10-2024 Fulham 1 - 3 Aston Villa', '26-10-2024 Everton 1 - 1 Fulham', '04-11-2024 Fulham 2 - 1 Brentford', '09-11-2024 Crystal Palace 0 - 2 Fulham', '23-11-2024 Fulham 1 - 4 Wolves', '01-12-2024 Tottenham 1 - 1 Fulham', '05-12-2024 Fulham 3 - 1 Brighton', '08-12-2024 Fulham 1 - 1 Arsenal', '14-12-2024 Liverpool 2 - 2 Fulham', '22-12-2024 Fulham 0 - 0 Southampton', '26-12-2024 Chelsea 1 - 2 Fulham', '29-12-2024 Fulham 2 - 2 Bournemouth', '05-01-2025 Fulham 2 - 2 Ipswich', '14-01-2025 West Ham 3 - 2 Fulham', '18-01-2025 Leicester 0 - 2 Fulham', '17-08-2024 Ipswich 0 - 2 Liverpool', '24-08-2024 Man City 4 - 1 Ipswich', '31-08-2024 Ipswich 1 - 1 Fulham', '14-09-2024 Brighton 0 - 0 Ipswich', '21-09-2024 Southampton 1 - 1 Ipswich', '29-09-2024 Ipswich 2 - 2 Aston Villa', '05-10-2024 West Ham 4 - 1 Ipswich', '19-10-2024 Ipswich 0 - 2 Everton', '26-10-2024 Brentford 4 - 3 Ipswich', '02-11-2024 Ipswich 1 - 1 Leicester', '10-11-2024 Tottenham 1 - 2 Ipswich', '24-11-2024 Ipswich 1 - 1 Man United', \"30-11-2024 Nott'm Forest 1 - 0 Ipswich\", '03-12-2024 Ipswich 0 - 1 Crystal Palace', '08-12-2024 Ipswich 1 - 2 Bournemouth', '14-12-2024 Wolves 1 - 2 Ipswich', '21-12-2024 Ipswich 0 - 4 Newcastle', '27-12-2024 Arsenal 1 - 0 Ipswich', '30-12-2024 Ipswich 2 - 0 Chelsea', '05-01-2025 Fulham 2 - 2 Ipswich', '16-01-2025 Ipswich 0 - 2 Brighton', 'Next match: 19-01-2025 Ipswich vs Man City', '19-08-2024 Leicester 1 - 1 Tottenham', '24-08-2024 Fulham 2 - 1 Leicester', '31-08-2024 Leicester 1 - 2 Aston Villa', '14-09-2024 Crystal Palace 2 - 2 Leicester', '21-09-2024 Leicester 1 - 1 Everton', '28-09-2024 Arsenal 4 - 2 Leicester', '05-10-2024 Leicester 1 - 0 Bournemouth', '19-10-2024 Southampton 2 - 3 Leicester', \"25-10-2024 Leicester 1 - 3 Nott'm Forest\", '02-11-2024 Ipswich 1 - 1 Leicester', '10-11-2024 Man United 3 - 0 Leicester', '23-11-2024 Leicester 1 - 2 Chelsea', '30-11-2024 Brentford 4 - 1 Leicester', '03-12-2024 Leicester 3 - 1 West Ham', '08-12-2024 Leicester 2 - 2 Brighton', '14-12-2024 Newcastle 4 - 0 Leicester', '22-12-2024 Leicester 0 - 3 Wolves', '26-12-2024 Liverpool 3 - 1 Leicester', '29-12-2024 Leicester 0 - 2 Man City', '04-01-2025 Aston Villa 2 - 1 Leicester', '15-01-2025 Leicester 0 - 2 Crystal Palace', '18-01-2025 Leicester 0 - 2 Fulham', '17-08-2024 Ipswich 0 - 2 Liverpool', '25-08-2024 Liverpool 2 - 0 Brentford', '01-09-2024 Man United 0 - 3 Liverpool', \"14-09-2024 Liverpool 0 - 1 Nott'm Forest\", '21-09-2024 Liverpool 3 - 0 Bournemouth', '28-09-2024 Wolves 1 - 2 Liverpool', '05-10-2024 Crystal Palace 0 - 1 Liverpool', '20-10-2024 Liverpool 2 - 1 Chelsea', '27-10-2024 Arsenal 2 - 2 Liverpool', '02-11-2024 Liverpool 2 - 1 Brighton', '09-11-2024 Liverpool 2 - 0 Aston Villa', '24-11-2024 Southampton 2 - 3 Liverpool', '01-12-2024 Liverpool 2 - 0 Man City', '04-12-2024 Newcastle 3 - 3 Liverpool', '14-12-2024 Liverpool 2 - 2 Fulham', '22-12-2024 Tottenham 3 - 6 Liverpool', '26-12-2024 Liverpool 3 - 1 Leicester', '29-12-2024 West Ham 0 - 5 Liverpool', '05-01-2025 Liverpool 2 - 2 Man United', \"14-01-2025 Nott'm Forest 1 - 1 Liverpool\", '18-01-2025 Brentford 0 - 2 Liverpool', '18-08-2024 Chelsea 0 - 2 Man City', '24-08-2024 Man City 4 - 1 Ipswich', '31-08-2024 West Ham 1 - 3 Man City', '14-09-2024 Man City 2 - 1 Brentford', '22-09-2024 Man City 2 - 2 Arsenal', '28-09-2024 Newcastle 1 - 1 Man City', '05-10-2024 Man City 3 - 2 Fulham', '20-10-2024 Wolves 1 - 2 Man City', '26-10-2024 Man City 1 - 0 Southampton', '02-11-2024 Bournemouth 2 - 1 Man City', '09-11-2024 Brighton 2 - 1 Man City', '23-11-2024 Man City 0 - 4 Tottenham', '01-12-2024 Liverpool 2 - 0 Man City', \"04-12-2024 Man City 3 - 0 Nott'm Forest\", '07-12-2024 Crystal Palace 2 - 2 Man City', '15-12-2024 Man City 1 - 2 Man United', '21-12-2024 Aston Villa 2 - 1 Man City', '26-12-2024 Man City 1 - 1 Everton', '29-12-2024 Leicester 0 - 2 Man City', '04-01-2025 Man City 4 - 1 West Ham', '14-01-2025 Brentford 2 - 2 Man City', 'Next match: 19-01-2025 Ipswich vs Man City', '16-08-2024 Man United 1 - 0 Fulham', '24-08-2024 Brighton 2 - 1 Man United', '01-09-2024 Man United 0 - 3 Liverpool', '14-09-2024 Southampton 0 - 3 Man United', '21-09-2024 Crystal Palace 0 - 0 Man United', '29-09-2024 Man United 0 - 3 Tottenham', '06-10-2024 Aston Villa 0 - 0 Man United', '19-10-2024 Man United 2 - 1 Brentford', '27-10-2024 West Ham 2 - 1 Man United', '03-11-2024 Man United 1 - 1 Chelsea', '10-11-2024 Man United 3 - 0 Leicester', '24-11-2024 Ipswich 1 - 1 Man United', '01-12-2024 Man United 4 - 0 Everton', '04-12-2024 Arsenal 2 - 0 Man United', \"07-12-2024 Man United 2 - 3 Nott'm Forest\", '15-12-2024 Man City 1 - 2 Man United', '22-12-2024 Man United 0 - 3 Bournemouth', '26-12-2024 Wolves 2 - 0 Man United', '30-12-2024 Man United 0 - 2 Newcastle', '05-01-2025 Liverpool 2 - 2 Man United', '16-01-2025 Man United 3 - 1 Southampton', 'Next match: 19-01-2025 Man United vs Brighton', '17-08-2024 Newcastle 1 - 0 Southampton', '25-08-2024 Bournemouth 1 - 1 Newcastle', '01-09-2024 Newcastle 2 - 1 Tottenham', '15-09-2024 Wolves 1 - 2 Newcastle', '21-09-2024 Fulham 3 - 1 Newcastle', '28-09-2024 Newcastle 1 - 1 Man City', '05-10-2024 Everton 0 - 0 Newcastle', '19-10-2024 Newcastle 0 - 1 Brighton', '27-10-2024 Chelsea 2 - 1 Newcastle', '02-11-2024 Newcastle 1 - 0 Arsenal', \"10-11-2024 Nott'm Forest 1 - 3 Newcastle\", '25-11-2024 Newcastle 0 - 2 West Ham', '30-11-2024 Crystal Palace 1 - 1 Newcastle', '04-12-2024 Newcastle 3 - 3 Liverpool', '07-12-2024 Brentford 4 - 2 Newcastle', '14-12-2024 Newcastle 4 - 0 Leicester', '21-12-2024 Ipswich 0 - 4 Newcastle', '26-12-2024 Newcastle 3 - 0 Aston Villa', '30-12-2024 Man United 0 - 2 Newcastle', '04-01-2025 Tottenham 1 - 2 Newcastle', '15-01-2025 Newcastle 3 - 0 Wolves', '18-01-2025 Newcastle 1 - 4 Bournemouth', \"17-08-2024 Nott'm Forest 1 - 1 Bournemouth\", \"24-08-2024 Southampton 0 - 1 Nott'm Forest\", \"31-08-2024 Nott'm Forest 1 - 1 Wolves\", \"14-09-2024 Liverpool 0 - 1 Nott'm Forest\", \"22-09-2024 Brighton 2 - 2 Nott'm Forest\", \"28-09-2024 Nott'm Forest 0 - 1 Fulham\", \"06-10-2024 Chelsea 1 - 1 Nott'm Forest\", \"21-10-2024 Nott'm Forest 1 - 0 Crystal Palace\", \"25-10-2024 Leicester 1 - 3 Nott'm Forest\", \"02-11-2024 Nott'm Forest 3 - 0 West Ham\", \"10-11-2024 Nott'm Forest 1 - 3 Newcastle\", \"23-11-2024 Arsenal 3 - 0 Nott'm Forest\", \"30-11-2024 Nott'm Forest 1 - 0 Ipswich\", \"04-12-2024 Man City 3 - 0 Nott'm Forest\", \"07-12-2024 Man United 2 - 3 Nott'm Forest\", \"14-12-2024 Nott'm Forest 2 - 1 Aston Villa\", \"21-12-2024 Brentford 0 - 2 Nott'm Forest\", \"26-12-2024 Nott'm Forest 1 - 0 Tottenham\", \"29-12-2024 Everton 0 - 2 Nott'm Forest\", \"06-01-2025 Wolves 0 - 3 Nott'm Forest\", \"14-01-2025 Nott'm Forest 1 - 1 Liverpool\", \"Next match: 19-01-2025 Nott'm Forest vs Southampton\", '17-08-2024 Newcastle 1 - 0 Southampton', \"24-08-2024 Southampton 0 - 1 Nott'm Forest\", '31-08-2024 Brentford 3 - 1 Southampton', '14-09-2024 Southampton 0 - 3 Man United', '21-09-2024 Southampton 1 - 1 Ipswich', '30-09-2024 Bournemouth 3 - 1 Southampton', '05-10-2024 Arsenal 3 - 1 Southampton', '19-10-2024 Southampton 2 - 3 Leicester', '26-10-2024 Man City 1 - 0 Southampton', '02-11-2024 Southampton 1 - 0 Everton', '09-11-2024 Wolves 2 - 0 Southampton', '24-11-2024 Southampton 2 - 3 Liverpool', '29-11-2024 Brighton 1 - 1 Southampton', '04-12-2024 Southampton 1 - 5 Chelsea', '07-12-2024 Aston Villa 1 - 0 Southampton', '15-12-2024 Southampton 0 - 5 Tottenham', '22-12-2024 Fulham 0 - 0 Southampton', '26-12-2024 Southampton 0 - 1 West Ham', '29-12-2024 Crystal Palace 2 - 1 Southampton', '04-01-2025 Southampton 0 - 5 Brentford', '16-01-2025 Man United 3 - 1 Southampton', \"Next match: 19-01-2025 Nott'm Forest vs Southampton\", '19-08-2024 Leicester 1 - 1 Tottenham', '24-08-2024 Tottenham 4 - 0 Everton', '01-09-2024 Newcastle 2 - 1 Tottenham', '15-09-2024 Tottenham 0 - 1 Arsenal', '21-09-2024 Tottenham 3 - 1 Brentford', '29-09-2024 Man United 0 - 3 Tottenham', '06-10-2024 Brighton 3 - 2 Tottenham', '19-10-2024 Tottenham 4 - 1 West Ham', '27-10-2024 Crystal Palace 1 - 0 Tottenham', '03-11-2024 Tottenham 4 - 1 Aston Villa', '10-11-2024 Tottenham 1 - 2 Ipswich', '23-11-2024 Man City 0 - 4 Tottenham', '01-12-2024 Tottenham 1 - 1 Fulham', '05-12-2024 Bournemouth 1 - 0 Tottenham', '08-12-2024 Tottenham 3 - 4 Chelsea', '15-12-2024 Southampton 0 - 5 Tottenham', '22-12-2024 Tottenham 3 - 6 Liverpool', \"26-12-2024 Nott'm Forest 1 - 0 Tottenham\", '29-12-2024 Tottenham 2 - 2 Wolves', '04-01-2025 Tottenham 1 - 2 Newcastle', '15-01-2025 Arsenal 2 - 1 Tottenham', 'Next match: 19-01-2025 Everton vs Tottenham', '17-08-2024 West Ham 1 - 2 Aston Villa', '24-08-2024 Crystal Palace 0 - 2 West Ham', '31-08-2024 West Ham 1 - 3 Man City', '14-09-2024 Fulham 1 - 1 West Ham', '21-09-2024 West Ham 0 - 3 Chelsea', '28-09-2024 Brentford 1 - 1 West Ham', '05-10-2024 West Ham 4 - 1 Ipswich', '19-10-2024 Tottenham 4 - 1 West Ham', '27-10-2024 West Ham 2 - 1 Man United', \"02-11-2024 Nott'm Forest 3 - 0 West Ham\", '09-11-2024 West Ham 0 - 0 Everton', '25-11-2024 Newcastle 0 - 2 West Ham', '30-11-2024 West Ham 2 - 5 Arsenal', '03-12-2024 Leicester 3 - 1 West Ham', '09-12-2024 West Ham 2 - 1 Wolves', '16-12-2024 Bournemouth 1 - 1 West Ham', '21-12-2024 West Ham 1 - 1 Brighton', '26-12-2024 Southampton 0 - 1 West Ham', '29-12-2024 West Ham 0 - 5 Liverpool', '04-01-2025 Man City 4 - 1 West Ham', '14-01-2025 West Ham 3 - 2 Fulham', '18-01-2025 West Ham 0 - 2 Crystal Palace', 'Next match: 26-01-2025 Aston Villa vs West Ham', '17-08-2024 Arsenal 2 - 0 Wolves', '25-08-2024 Wolves 2 - 6 Chelsea', \"31-08-2024 Nott'm Forest 1 - 1 Wolves\", '15-09-2024 Wolves 1 - 2 Newcastle', '21-09-2024 Aston Villa 3 - 1 Wolves', '28-09-2024 Wolves 1 - 2 Liverpool', '05-10-2024 Brentford 5 - 3 Wolves', '20-10-2024 Wolves 1 - 2 Man City', '26-10-2024 Brighton 2 - 2 Wolves', '02-11-2024 Wolves 2 - 2 Crystal Palace', '09-11-2024 Wolves 2 - 0 Southampton', '23-11-2024 Fulham 1 - 4 Wolves', '30-11-2024 Wolves 2 - 4 Bournemouth', '04-12-2024 Everton 4 - 0 Wolves', '09-12-2024 West Ham 2 - 1 Wolves', '14-12-2024 Wolves 1 - 2 Ipswich', '22-12-2024 Leicester 0 - 3 Wolves', '26-12-2024 Wolves 2 - 0 Man United', '29-12-2024 Tottenham 2 - 2 Wolves', \"06-01-2025 Wolves 0 - 3 Nott'm Forest\", '15-01-2025 Newcastle 3 - 0 Wolves', 'Next match: 21-01-2025 Chelsea vs Wolves']\n"
     ]
    }
   ],
   "source": [
    "matches=driver.find_elements(By.TAG_NAME,'tr')\n",
    "\n",
    "match_info=[]\n",
    "\n",
    "for match in matches:\n",
    "    match_info.append(match.text)\n",
    "\n",
    "print(match_info)"
   ]
  },
  {
   "cell_type": "code",
   "execution_count": 7,
   "metadata": {},
   "outputs": [
    {
     "name": "stdout",
     "output_type": "stream",
     "text": [
      "<title>Team goals scored stats | Team goals conceded stats</title>\n"
     ]
    }
   ],
   "source": [
    "html_content = driver.page_source\n",
    "soup=BeautifulSoup(html_content,'html.parser')\n",
    "print(soup.title)"
   ]
  },
  {
   "cell_type": "code",
   "execution_count": 8,
   "metadata": {},
   "outputs": [],
   "source": [
    "system_prompt=\"\"\"\n",
    "You are an expert football analyst and storyteller. You specialize in analyzing football match data and generating insightful, engaging, and concise summaries. The input data is a list of match results in the format:  \n",
    "\"Date TeamA GoalsA-GoalsB TeamB\".  \n",
    "\n",
    "Your task is to:  \n",
    "1. Extract information from the input list.  \n",
    "2. Highlight key insights, such as high-scoring matches, surprising results, or notable trends.  \n",
    "3. Provide meaningful context based on the match data provided (e.g., big wins, close contests, or goal differentials).  \n",
    "4. Generate summaries that appeal to football fans, focusing on storytelling and engagement.  \n",
    "If the input lacks context, focus on the match results and notable details from the given data. Avoid adding fabricated historical or player details.\n",
    "\"\"\""
   ]
  },
  {
   "cell_type": "code",
   "execution_count": 9,
   "metadata": {},
   "outputs": [],
   "source": [
    "def create_userPrompt(data):\n",
    "    user_prompt=f\"\"\"\n",
    "\n",
    "Here is the match data {data}\n",
    "\n",
    "\n",
    "Analyze this data and generate the following insights:  \n",
    "1. Highlight high-scoring matches with exciting goal totals.  \n",
    "2. Identify close contests where the goal difference was minimal.  \n",
    "3. Point out dominant wins or surprising results.  \n",
    "4. Provide a general summary that captures the most notable outcomes and patterns from these matches.  \n",
    "\n",
    "Ensure the output is concise, insightful, and engaging for football fans. Avoid adding any external context or assumptions.\"\"\"\n",
    "    return user_prompt"
   ]
  },
  {
   "cell_type": "code",
   "execution_count": 10,
   "metadata": {},
   "outputs": [],
   "source": [
    "def llm_msg(match_data):\n",
    "    return [\n",
    "        {\"role\":\"system\",\"content\":system_prompt},\n",
    "        {\"role\":\"user\",\"content\":create_userPrompt(match_data)},\n",
    "    ]"
   ]
  },
  {
   "cell_type": "code",
   "execution_count": 11,
   "metadata": {},
   "outputs": [],
   "source": [
    "def llm_insights(data):\n",
    "    response=openai.chat.completions.create(\n",
    "        model=\"gpt-4o-mini\",\n",
    "        messages=llm_msg(data)\n",
    "    )\n",
    "    return response.choices[0].message.content\n"
   ]
  },
  {
   "cell_type": "code",
   "execution_count": 12,
   "metadata": {},
   "outputs": [],
   "source": [
    "def draw_insights(website_data):\n",
    "    insight=llm_insights(website_data)\n",
    "    display(Markdown(insight))"
   ]
  },
  {
   "cell_type": "code",
   "execution_count": 13,
   "metadata": {},
   "outputs": [],
   "source": [
    "load_dotenv(override=True)\n",
    "api_key = os.getenv('OPENAI_API_KEY')"
   ]
  },
  {
   "cell_type": "code",
   "execution_count": 16,
   "metadata": {},
   "outputs": [],
   "source": [
    "openai = OpenAI()"
   ]
  },
  {
   "cell_type": "code",
   "execution_count": 17,
   "metadata": {},
   "outputs": [
    {
     "data": {
      "text/markdown": [
       "### High-Scoring Matches\n",
       "- **Chelsea 5 - 3 Brentford (05-10-2024)**: A thrilling encounter where the Blues edged out Brentford in a rollercoaster of a match.\n",
       "- **Liverpool 6 - 3 Tottenham (22-12-2024)**: A wild game filled with goals, showcasing the attacking prowess of both teams.\n",
       "- **Aston Villa 5 - 2 Bournemouth (30-12-2024)**: Aston Villa impressed with a commanding performance and a flurry of goals.\n",
       "\n",
       "### Close Contests\n",
       "- **Arsenal 1 - 1 Brighton (31-08-2024)**: Both teams battled to a draw, showcasing strong defensive efforts.\n",
       "- **Aston Villa 2 - 2 Crystal Palace (23-11-2024)**: A closely fought contest that ended with both sides sharing the points.\n",
       "- **Liverpool 2 - 2 Fulham (14-12-2024)**: A tense match where Fulham earned a valuable draw against the Reds.\n",
       "\n",
       "### Dominant Wins & Surprising Results\n",
       "- **Arsenal 4 - 2 Leicester (28-09-2024)**: Arsenal displayed their attacking flair with a dominant performance against Leicester.\n",
       "- **Bournemouth 3 - 0 Manchester United (22-12-2024)**: An unexpected and emphatic win for Bournemouth against the historically strong United.\n",
       "- **Fulham 5 - 1 Wolves (23-11-2024)**: Fulham surprised many with a decisive victory that highlighted their attacking capabilities.\n",
       "\n",
       "### Summary of Notable Outcomes\n",
       "The matches reflect a diverse set of outcomes in this thrilling football season. Arsenal has established themselves as a formidable force with strong performances but also faced challenges, as seen in their recent draws against Liverpool and Bournemouth. Bournemouth made headlines with their impressive win against Manchester United and high-scoring matches solidified their notable presence.\n",
       "\n",
       "High-scoring encounters captivated fans, especially those involving Chelsea and Liverpool, delivering excitement week in and week out. Meanwhile, close contests kept supporters on the edge of their seats, evidencing the competitive nature of the league. There’s a palpable unpredictability this season, ensuring the chase for points remains fierce."
      ],
      "text/plain": [
       "<IPython.core.display.Markdown object>"
      ]
     },
     "metadata": {},
     "output_type": "display_data"
    }
   ],
   "source": [
    "draw_insights(match_info)"
   ]
  }
 ],
 "metadata": {
  "kernelspec": {
   "display_name": "llms",
   "language": "python",
   "name": "python3"
  },
  "language_info": {
   "codemirror_mode": {
    "name": "ipython",
    "version": 3
   },
   "file_extension": ".py",
   "mimetype": "text/x-python",
   "name": "python",
   "nbconvert_exporter": "python",
   "pygments_lexer": "ipython3",
   "version": "3.11.11"
  }
 },
 "nbformat": 4,
 "nbformat_minor": 2
}
